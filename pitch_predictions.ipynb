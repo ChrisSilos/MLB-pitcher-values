{
 "cells": [
  {
   "cell_type": "code",
   "execution_count": 12,
   "metadata": {},
   "outputs": [],
   "source": [
    "from pybaseball import statcast\n",
    "import pandas as pd\n",
    "from matplotlib import pyplot as plt\n",
    "import numpy as np\n",
    "import plotly.express as px"
   ]
  },
  {
   "cell_type": "code",
   "execution_count": 2,
   "metadata": {},
   "outputs": [
    {
     "name": "stdout",
     "output_type": "stream",
     "text": [
      "This is a large query, it may take a moment to complete\n"
     ]
    },
    {
     "name": "stderr",
     "output_type": "stream",
     "text": [
      "/opt/anaconda3/envs/minimal_ds/lib/python3.10/site-packages/pybaseball/statcast.py:50: UserWarning: \n",
      "That's a nice request you got there. It'd be a shame if something were to happen to it.\n",
      "We strongly recommend that you enable caching before running this. It's as simple as `pybaseball.cache.enable()`.\n",
      "Since the Statcast requests can take a *really* long time to run, if something were to happen, like: a disconnect;\n",
      "gremlins; computer repair by associates of Rudy Giuliani; electromagnetic interference from metal trash cans; etc.;\n",
      "you could lose a lot of progress. Enabling caching will allow you to immediately recover all the successful\n",
      "subqueries if that happens.\n",
      "  warnings.warn(_OVERSIZE_WARNING)\n"
     ]
    },
    {
     "name": "stdout",
     "output_type": "stream",
     "text": [
      "Skipping offseason dates\n",
      "Skipping offseason dates\n"
     ]
    },
    {
     "name": "stderr",
     "output_type": "stream",
     "text": [
      "100%|██████████| 246/246 [01:08<00:00,  3.59it/s]\n"
     ]
    }
   ],
   "source": [
    "#import all pitches from 2021 into dataframe\n",
    "statcast_data = statcast('2020-12-01', '2021-12-01')"
   ]
  },
  {
   "cell_type": "code",
   "execution_count": 8,
   "metadata": {},
   "outputs": [
    {
     "data": {
      "text/plain": [
       "Index(['pitch_type', 'game_date', 'release_speed', 'release_pos_x',\n",
       "       'release_pos_z', 'player_name', 'batter', 'pitcher', 'events',\n",
       "       'description', 'spin_dir', 'spin_rate_deprecated',\n",
       "       'break_angle_deprecated', 'break_length_deprecated', 'zone', 'des',\n",
       "       'game_type', 'stand', 'p_throws', 'home_team', 'away_team', 'type',\n",
       "       'hit_location', 'bb_type', 'balls', 'strikes', 'game_year', 'pfx_x',\n",
       "       'pfx_z', 'plate_x', 'plate_z', 'on_3b', 'on_2b', 'on_1b',\n",
       "       'outs_when_up', 'inning', 'inning_topbot', 'hc_x', 'hc_y',\n",
       "       'tfs_deprecated', 'tfs_zulu_deprecated', 'fielder_2', 'umpire', 'sv_id',\n",
       "       'vx0', 'vy0', 'vz0', 'ax', 'ay', 'az', 'sz_top', 'sz_bot',\n",
       "       'hit_distance_sc', 'launch_speed', 'launch_angle', 'effective_speed',\n",
       "       'release_spin_rate', 'release_extension', 'game_pk', 'pitcher.1',\n",
       "       'fielder_2.1', 'fielder_3', 'fielder_4', 'fielder_5', 'fielder_6',\n",
       "       'fielder_7', 'fielder_8', 'fielder_9', 'release_pos_y',\n",
       "       'estimated_ba_using_speedangle', 'estimated_woba_using_speedangle',\n",
       "       'woba_value', 'woba_denom', 'babip_value', 'iso_value',\n",
       "       'launch_speed_angle', 'at_bat_number', 'pitch_number', 'pitch_name',\n",
       "       'home_score', 'away_score', 'bat_score', 'fld_score', 'post_away_score',\n",
       "       'post_home_score', 'post_bat_score', 'post_fld_score',\n",
       "       'if_fielding_alignment', 'of_fielding_alignment', 'spin_axis',\n",
       "       'delta_home_win_exp', 'delta_run_exp'],\n",
       "      dtype='object')"
      ]
     },
     "execution_count": 8,
     "metadata": {},
     "output_type": "execute_result"
    }
   ],
   "source": [
    "statcast_data.columns #view all columns"
   ]
  },
  {
   "cell_type": "code",
   "execution_count": 11,
   "metadata": {},
   "outputs": [],
   "source": [
    "#determine relevant columns --> these columns were chosen by intuition. I am only interested in using statcast data to predict the pitch\n",
    "df_relevant = statcast_data[['pitch_type','release_speed','p_throws','pfx_x','pfx_z','plate_x','plate_z','vx0','vy0','vz0','ax','ay','az','release_spin_rate','pitch_name','spin_axis']]"
   ]
  },
  {
   "cell_type": "code",
   "execution_count": 13,
   "metadata": {},
   "outputs": [
    {
     "data": {
      "text/plain": [
       "pitch_type            365\n",
       "release_speed         402\n",
       "p_throws                0\n",
       "pfx_x                 368\n",
       "pfx_z                 368\n",
       "plate_x               368\n",
       "plate_z               368\n",
       "vx0                   368\n",
       "vy0                   368\n",
       "vz0                   368\n",
       "ax                    368\n",
       "ay                    368\n",
       "az                    368\n",
       "release_spin_rate    3028\n",
       "pitch_name            365\n",
       "spin_axis            2992\n",
       "dtype: int64"
      ]
     },
     "execution_count": 13,
     "metadata": {},
     "output_type": "execute_result"
    }
   ],
   "source": [
    "df_relevant.isna().sum() #see how many null values are in the dataset"
   ]
  },
  {
   "cell_type": "markdown",
   "metadata": {},
   "source": [
    "Most of the columns has 368 missing values. This leads me to believe it is the same rows for each of the columns. Since there are over 700,000 rows in the dataset, it is probably best to remove these rows. The same may be said for the spin rate and spin axis. "
   ]
  },
  {
   "cell_type": "code",
   "execution_count": 15,
   "metadata": {},
   "outputs": [
    {
     "data": {
      "text/plain": [
       "pitch_type               13\n",
       "release_speed           583\n",
       "p_throws                  2\n",
       "pfx_x                   461\n",
       "pfx_z                   430\n",
       "plate_x                 795\n",
       "plate_z                 942\n",
       "vx0                  720268\n",
       "vy0                  720269\n",
       "vz0                  720268\n",
       "ax                   720269\n",
       "ay                   720269\n",
       "az                   720269\n",
       "release_spin_rate      3105\n",
       "pitch_name               12\n",
       "spin_axis               361\n",
       "dtype: int64"
      ]
     },
     "execution_count": 15,
     "metadata": {},
     "output_type": "execute_result"
    }
   ],
   "source": [
    "df_relevant.nunique()"
   ]
  },
  {
   "cell_type": "markdown",
   "metadata": {},
   "source": [
    "I noticed that pitch_type and pitch_name have different numbers of unique values, although they are both referring to the same thing. I investigated below"
   ]
  },
  {
   "cell_type": "code",
   "execution_count": 24,
   "metadata": {},
   "outputs": [
    {
     "data": {
      "text/plain": [
       "array(['FF', 'SL', 'CU', 'CH', 'FS', 'SI', 'KC', 'FC', 'CS', nan, 'FA',\n",
       "       'KN', 'EP', 'SC'], dtype=object)"
      ]
     },
     "execution_count": 24,
     "metadata": {},
     "output_type": "execute_result"
    }
   ],
   "source": [
    "df_relevant['pitch_type'].unique()"
   ]
  },
  {
   "cell_type": "code",
   "execution_count": 23,
   "metadata": {},
   "outputs": [
    {
     "data": {
      "text/plain": [
       "array(['4-Seam Fastball', 'Slider', 'Curveball', 'Changeup',\n",
       "       'Split-Finger', 'Sinker', 'Knuckle Curve', 'Cutter', nan,\n",
       "       'Fastball', 'Knuckleball', 'Eephus', 'Screwball'], dtype=object)"
      ]
     },
     "execution_count": 23,
     "metadata": {},
     "output_type": "execute_result"
    }
   ],
   "source": [
    "df_relevant['pitch_name'].unique()"
   ]
  },
  {
   "cell_type": "markdown",
   "metadata": {},
   "source": [
    "The pitch_type column as a value 'CS' that does not correspond to anything from the pitch_name column"
   ]
  },
  {
   "cell_type": "code",
   "execution_count": 28,
   "metadata": {},
   "outputs": [
    {
     "data": {
      "text/html": [
       "<div>\n",
       "<style scoped>\n",
       "    .dataframe tbody tr th:only-of-type {\n",
       "        vertical-align: middle;\n",
       "    }\n",
       "\n",
       "    .dataframe tbody tr th {\n",
       "        vertical-align: top;\n",
       "    }\n",
       "\n",
       "    .dataframe thead th {\n",
       "        text-align: right;\n",
       "    }\n",
       "</style>\n",
       "<table border=\"1\" class=\"dataframe\">\n",
       "  <thead>\n",
       "    <tr style=\"text-align: right;\">\n",
       "      <th></th>\n",
       "      <th>pitch_type</th>\n",
       "      <th>release_speed</th>\n",
       "      <th>p_throws</th>\n",
       "      <th>pfx_x</th>\n",
       "      <th>pfx_z</th>\n",
       "      <th>plate_x</th>\n",
       "      <th>plate_z</th>\n",
       "      <th>vx0</th>\n",
       "      <th>vy0</th>\n",
       "      <th>vz0</th>\n",
       "      <th>ax</th>\n",
       "      <th>ay</th>\n",
       "      <th>az</th>\n",
       "      <th>release_spin_rate</th>\n",
       "      <th>pitch_name</th>\n",
       "      <th>spin_axis</th>\n",
       "    </tr>\n",
       "  </thead>\n",
       "  <tbody>\n",
       "    <tr>\n",
       "      <th>14</th>\n",
       "      <td>CS</td>\n",
       "      <td>67.8</td>\n",
       "      <td>R</td>\n",
       "      <td>1.43</td>\n",
       "      <td>-1.3</td>\n",
       "      <td>1.69</td>\n",
       "      <td>1.0</td>\n",
       "      <td>3.100946</td>\n",
       "      <td>-98.54461</td>\n",
       "      <td>0.446421</td>\n",
       "      <td>8.514053</td>\n",
       "      <td>19.472324</td>\n",
       "      <td>-40.849224</td>\n",
       "      <td>2622</td>\n",
       "      <td>Curveball</td>\n",
       "      <td>39</td>\n",
       "    </tr>\n",
       "    <tr>\n",
       "      <th>60</th>\n",
       "      <td>CS</td>\n",
       "      <td>69.8</td>\n",
       "      <td>L</td>\n",
       "      <td>-2.15</td>\n",
       "      <td>-0.24</td>\n",
       "      <td>-0.77</td>\n",
       "      <td>2.49</td>\n",
       "      <td>-2.556083</td>\n",
       "      <td>-101.365132</td>\n",
       "      <td>4.623964</td>\n",
       "      <td>-14.039311</td>\n",
       "      <td>20.242167</td>\n",
       "      <td>-34.957753</td>\n",
       "      <td>2636</td>\n",
       "      <td>Curveball</td>\n",
       "      <td>274</td>\n",
       "    </tr>\n",
       "    <tr>\n",
       "      <th>81</th>\n",
       "      <td>CS</td>\n",
       "      <td>67.9</td>\n",
       "      <td>L</td>\n",
       "      <td>-2.33</td>\n",
       "      <td>0.06</td>\n",
       "      <td>-0.07</td>\n",
       "      <td>3.23</td>\n",
       "      <td>-1.146932</td>\n",
       "      <td>-98.499702</td>\n",
       "      <td>5.811309</td>\n",
       "      <td>-14.679986</td>\n",
       "      <td>19.235388</td>\n",
       "      <td>-33.190684</td>\n",
       "      <td>2744</td>\n",
       "      <td>Curveball</td>\n",
       "      <td>273</td>\n",
       "    </tr>\n",
       "    <tr>\n",
       "      <th>150</th>\n",
       "      <td>CS</td>\n",
       "      <td>67.7</td>\n",
       "      <td>L</td>\n",
       "      <td>-2.31</td>\n",
       "      <td>0.16</td>\n",
       "      <td>-0.6</td>\n",
       "      <td>3.03</td>\n",
       "      <td>-1.84581</td>\n",
       "      <td>-98.216616</td>\n",
       "      <td>5.715581</td>\n",
       "      <td>-14.255159</td>\n",
       "      <td>20.236141</td>\n",
       "      <td>-32.618932</td>\n",
       "      <td>2697</td>\n",
       "      <td>Curveball</td>\n",
       "      <td>272</td>\n",
       "    </tr>\n",
       "    <tr>\n",
       "      <th>168</th>\n",
       "      <td>CS</td>\n",
       "      <td>66.6</td>\n",
       "      <td>L</td>\n",
       "      <td>-2.28</td>\n",
       "      <td>0.25</td>\n",
       "      <td>1.04</td>\n",
       "      <td>3.01</td>\n",
       "      <td>1.035509</td>\n",
       "      <td>-96.632806</td>\n",
       "      <td>5.622793</td>\n",
       "      <td>-14.220294</td>\n",
       "      <td>18.894316</td>\n",
       "      <td>-31.992749</td>\n",
       "      <td>2649</td>\n",
       "      <td>Curveball</td>\n",
       "      <td>270</td>\n",
       "    </tr>\n",
       "  </tbody>\n",
       "</table>\n",
       "</div>"
      ],
      "text/plain": [
       "    pitch_type  release_speed p_throws  pfx_x  pfx_z  plate_x  plate_z  \\\n",
       "14          CS           67.8        R   1.43   -1.3     1.69      1.0   \n",
       "60          CS           69.8        L  -2.15  -0.24    -0.77     2.49   \n",
       "81          CS           67.9        L  -2.33   0.06    -0.07     3.23   \n",
       "150         CS           67.7        L  -2.31   0.16     -0.6     3.03   \n",
       "168         CS           66.6        L  -2.28   0.25     1.04     3.01   \n",
       "\n",
       "          vx0         vy0       vz0         ax         ay         az  \\\n",
       "14   3.100946   -98.54461  0.446421   8.514053  19.472324 -40.849224   \n",
       "60  -2.556083 -101.365132  4.623964 -14.039311  20.242167 -34.957753   \n",
       "81  -1.146932  -98.499702  5.811309 -14.679986  19.235388 -33.190684   \n",
       "150  -1.84581  -98.216616  5.715581 -14.255159  20.236141 -32.618932   \n",
       "168  1.035509  -96.632806  5.622793 -14.220294  18.894316 -31.992749   \n",
       "\n",
       "     release_spin_rate pitch_name  spin_axis  \n",
       "14                2622  Curveball         39  \n",
       "60                2636  Curveball        274  \n",
       "81                2744  Curveball        273  \n",
       "150               2697  Curveball        272  \n",
       "168               2649  Curveball        270  "
      ]
     },
     "execution_count": 28,
     "metadata": {},
     "output_type": "execute_result"
    }
   ],
   "source": [
    "df_relevant[df_relevant['pitch_type'] == 'CS'].head(5)"
   ]
  },
  {
   "cell_type": "markdown",
   "metadata": {},
   "source": [
    "It looks like 'CS' is being classified as 'curveball'"
   ]
  },
  {
   "cell_type": "code",
   "execution_count": 29,
   "metadata": {},
   "outputs": [
    {
     "data": {
      "text/html": [
       "<div>\n",
       "<style scoped>\n",
       "    .dataframe tbody tr th:only-of-type {\n",
       "        vertical-align: middle;\n",
       "    }\n",
       "\n",
       "    .dataframe tbody tr th {\n",
       "        vertical-align: top;\n",
       "    }\n",
       "\n",
       "    .dataframe thead th {\n",
       "        text-align: right;\n",
       "    }\n",
       "</style>\n",
       "<table border=\"1\" class=\"dataframe\">\n",
       "  <thead>\n",
       "    <tr style=\"text-align: right;\">\n",
       "      <th></th>\n",
       "      <th>pitch_type</th>\n",
       "      <th>release_speed</th>\n",
       "      <th>p_throws</th>\n",
       "      <th>pfx_x</th>\n",
       "      <th>pfx_z</th>\n",
       "      <th>plate_x</th>\n",
       "      <th>plate_z</th>\n",
       "      <th>vx0</th>\n",
       "      <th>vy0</th>\n",
       "      <th>vz0</th>\n",
       "      <th>ax</th>\n",
       "      <th>ay</th>\n",
       "      <th>az</th>\n",
       "      <th>release_spin_rate</th>\n",
       "      <th>pitch_name</th>\n",
       "      <th>spin_axis</th>\n",
       "    </tr>\n",
       "  </thead>\n",
       "  <tbody>\n",
       "    <tr>\n",
       "      <th>266</th>\n",
       "      <td>CU</td>\n",
       "      <td>77.2</td>\n",
       "      <td>L</td>\n",
       "      <td>-0.79</td>\n",
       "      <td>-1.09</td>\n",
       "      <td>1.06</td>\n",
       "      <td>4.8</td>\n",
       "      <td>0.288752</td>\n",
       "      <td>-112.269839</td>\n",
       "      <td>4.402666</td>\n",
       "      <td>-6.664866</td>\n",
       "      <td>23.089543</td>\n",
       "      <td>-42.468284</td>\n",
       "      <td>1938</td>\n",
       "      <td>Curveball</td>\n",
       "      <td>325</td>\n",
       "    </tr>\n",
       "    <tr>\n",
       "      <th>204</th>\n",
       "      <td>CU</td>\n",
       "      <td>84.4</td>\n",
       "      <td>R</td>\n",
       "      <td>0.62</td>\n",
       "      <td>-0.03</td>\n",
       "      <td>0.14</td>\n",
       "      <td>1.53</td>\n",
       "      <td>4.887751</td>\n",
       "      <td>-122.936949</td>\n",
       "      <td>-2.193857</td>\n",
       "      <td>5.357669</td>\n",
       "      <td>23.999432</td>\n",
       "      <td>-32.271503</td>\n",
       "      <td>2562</td>\n",
       "      <td>Curveball</td>\n",
       "      <td>76</td>\n",
       "    </tr>\n",
       "    <tr>\n",
       "      <th>217</th>\n",
       "      <td>CU</td>\n",
       "      <td>82.0</td>\n",
       "      <td>R</td>\n",
       "      <td>1.35</td>\n",
       "      <td>-0.56</td>\n",
       "      <td>1.19</td>\n",
       "      <td>0.39</td>\n",
       "      <td>5.812482</td>\n",
       "      <td>-119.201895</td>\n",
       "      <td>-3.287973</td>\n",
       "      <td>11.467446</td>\n",
       "      <td>26.102005</td>\n",
       "      <td>-36.951864</td>\n",
       "      <td>2778</td>\n",
       "      <td>Curveball</td>\n",
       "      <td>67</td>\n",
       "    </tr>\n",
       "    <tr>\n",
       "      <th>227</th>\n",
       "      <td>CU</td>\n",
       "      <td>83.5</td>\n",
       "      <td>R</td>\n",
       "      <td>1.43</td>\n",
       "      <td>-0.52</td>\n",
       "      <td>0.44</td>\n",
       "      <td>1.51</td>\n",
       "      <td>3.944388</td>\n",
       "      <td>-121.494864</td>\n",
       "      <td>-1.066441</td>\n",
       "      <td>13.157535</td>\n",
       "      <td>26.76832</td>\n",
       "      <td>-37.267542</td>\n",
       "      <td>2810</td>\n",
       "      <td>Curveball</td>\n",
       "      <td>68</td>\n",
       "    </tr>\n",
       "    <tr>\n",
       "      <th>240</th>\n",
       "      <td>CU</td>\n",
       "      <td>82.5</td>\n",
       "      <td>R</td>\n",
       "      <td>0.82</td>\n",
       "      <td>-0.25</td>\n",
       "      <td>-0.08</td>\n",
       "      <td>2.42</td>\n",
       "      <td>4.278948</td>\n",
       "      <td>-120.133698</td>\n",
       "      <td>0.524597</td>\n",
       "      <td>7.147985</td>\n",
       "      <td>22.252259</td>\n",
       "      <td>-34.942785</td>\n",
       "      <td>2559</td>\n",
       "      <td>Curveball</td>\n",
       "      <td>73</td>\n",
       "    </tr>\n",
       "  </tbody>\n",
       "</table>\n",
       "</div>"
      ],
      "text/plain": [
       "    pitch_type  release_speed p_throws  pfx_x  pfx_z  plate_x  plate_z  \\\n",
       "266         CU           77.2        L  -0.79  -1.09     1.06      4.8   \n",
       "204         CU           84.4        R   0.62  -0.03     0.14     1.53   \n",
       "217         CU           82.0        R   1.35  -0.56     1.19     0.39   \n",
       "227         CU           83.5        R   1.43  -0.52     0.44     1.51   \n",
       "240         CU           82.5        R   0.82  -0.25    -0.08     2.42   \n",
       "\n",
       "          vx0         vy0       vz0         ax         ay         az  \\\n",
       "266  0.288752 -112.269839  4.402666  -6.664866  23.089543 -42.468284   \n",
       "204  4.887751 -122.936949 -2.193857   5.357669  23.999432 -32.271503   \n",
       "217  5.812482 -119.201895 -3.287973  11.467446  26.102005 -36.951864   \n",
       "227  3.944388 -121.494864 -1.066441  13.157535   26.76832 -37.267542   \n",
       "240  4.278948 -120.133698  0.524597   7.147985  22.252259 -34.942785   \n",
       "\n",
       "     release_spin_rate pitch_name  spin_axis  \n",
       "266               1938  Curveball        325  \n",
       "204               2562  Curveball         76  \n",
       "217               2778  Curveball         67  \n",
       "227               2810  Curveball         68  \n",
       "240               2559  Curveball         73  "
      ]
     },
     "execution_count": 29,
     "metadata": {},
     "output_type": "execute_result"
    }
   ],
   "source": [
    "df_relevant[df_relevant['pitch_type'] == 'CU'].head(5)"
   ]
  },
  {
   "cell_type": "markdown",
   "metadata": {},
   "source": [
    "Both 'CU' and 'CS' refer to curveball, although 'CU is much more prevelant"
   ]
  },
  {
   "cell_type": "code",
   "execution_count": 30,
   "metadata": {},
   "outputs": [],
   "source": [
    "#drop pitch_type column due to label confusion\n",
    "df_drop_type = df_relevant.drop(columns='pitch_type')"
   ]
  },
  {
   "cell_type": "code",
   "execution_count": null,
   "metadata": {},
   "outputs": [],
   "source": []
  }
 ],
 "metadata": {
  "interpreter": {
   "hash": "7cbe2c19f9c0c24baaa32e065b62fa82ceb1f2c7e2320fcbef78b78f3411137b"
  },
  "kernelspec": {
   "display_name": "Python 3.10.0 64-bit ('minimal_ds': conda)",
   "language": "python",
   "name": "python3"
  },
  "language_info": {
   "codemirror_mode": {
    "name": "ipython",
    "version": 3
   },
   "file_extension": ".py",
   "mimetype": "text/x-python",
   "name": "python",
   "nbconvert_exporter": "python",
   "pygments_lexer": "ipython3",
   "version": "3.10.0"
  },
  "orig_nbformat": 4
 },
 "nbformat": 4,
 "nbformat_minor": 2
}
